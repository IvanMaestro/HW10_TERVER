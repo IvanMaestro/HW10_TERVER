{
 "cells": [
  {
   "cell_type": "code",
   "execution_count": null,
   "id": "e78753c7",
   "metadata": {},
   "outputs": [],
   "source": [
    "import numpy as np\n",
    "from scipy import stats\n",
    "from statsmodels.stats.multicomp import pairwise_tukeyhsd"
   ]
  },
  {
   "cell_type": "markdown",
   "id": "23b96d88",
   "metadata": {},
   "source": [
    "Проверяем на нормальность:"
   ]
  },
  {
   "cell_type": "code",
   "execution_count": null,
   "id": "8a6fda03",
   "metadata": {},
   "outputs": [],
   "source": [
    "football = np.array([173, 175, 180, 178, 177, 185, 183, 182])\n",
    "hockey = np.array([177, 179, 180, 188, 177, 172, 171, 184, 180])\n",
    "barbell = np.array([172, 173, 169, 177, 166, 180, 178, 177, 172, 166, 170])\n",
    "print(stats.shapiro(football))\n",
    "print(stats.shapiro(hockey))\n",
    "print(stats.shapiro(barbell))"
   ]
  },
  {
   "cell_type": "markdown",
   "id": "92108977",
   "metadata": {},
   "source": [
    "pvalue > 0.05, т.е. все величины распределены нормально"
   ]
  },
  {
   "cell_type": "markdown",
   "id": "b5f40037",
   "metadata": {},
   "source": [
    "Проверяем равенство дисперсий"
   ]
  },
  {
   "cell_type": "code",
   "execution_count": null,
   "id": "d2682f10",
   "metadata": {},
   "outputs": [],
   "source": [
    "print (stats.bartlett(football, hockey, barbell))"
   ]
  },
  {
   "cell_type": "markdown",
   "id": "54334bd2",
   "metadata": {},
   "source": [
    "pvalue > 0.05, т.е. дисперсии не имеют статистически значимых различий<br>\n",
    "Таким образом, можем проводить дисперсионный анализ"
   ]
  },
  {
   "cell_type": "markdown",
   "id": "0451fedb",
   "metadata": {},
   "source": [
    "Проведём тест Фишера"
   ]
  },
  {
   "cell_type": "code",
   "execution_count": null,
   "id": "043d2da3",
   "metadata": {},
   "outputs": [],
   "source": [
    "stats.f_oneway(football, hockey, barbell)"
   ]
  },
  {
   "cell_type": "markdown",
   "id": "96b184af",
   "metadata": {},
   "source": [
    "pvalue меньше 0.05, таким образом нулевая гипотеза отвергается, статистически значимые различия среднего роста есть."
   ]
  },
  {
   "cell_type": "markdown",
   "id": "750e076c",
   "metadata": {},
   "source": [
    "Считаем вручную наблюдаемое значение критерия"
   ]
  },
  {
   "cell_type": "code",
   "execution_count": null,
   "id": "15a16203",
   "metadata": {},
   "outputs": [],
   "source": [
    "k = 3\n",
    "n_f = len (football)\n",
    "n_h = len (hockey)\n",
    "n_b = len (barbell)\n",
    "n = n_f + n_h + n_b\n",
    "n_f, n_h, n_b, n"
   ]
  },
  {
   "cell_type": "markdown",
   "id": "c0f87285",
   "metadata": {},
   "source": [
    "Считаем средние"
   ]
  },
  {
   "cell_type": "code",
   "execution_count": null,
   "id": "50783f3f",
   "metadata": {},
   "outputs": [],
   "source": [
    "football_mean = np.mean(football)\n",
    "hockey_mean = np.mean(hockey)\n",
    "barbell_mean = np.mean(barbell)\n",
    "total = np.array ([173, 175, 180, 178, 177, 185, 183, 182, 177, 179, 180, 188, 177, 172, 171, 184, 180, 172, 173, 169, 177, 166, 180, 178, 177, 172, 166, 170])\n",
    "total_mean = np.mean(total)\n",
    "football_mean, hockey_mean, barbell_mean, total_mean"
   ]
  },
  {
   "cell_type": "markdown",
   "id": "a780b19b",
   "metadata": {},
   "source": [
    "Сумма квадратов отклонений от общего среднего:"
   ]
  },
  {
   "cell_type": "code",
   "execution_count": null,
   "id": "f4a50527",
   "metadata": {},
   "outputs": [],
   "source": [
    "s_t = np.sum((total - total_mean)**2)"
   ]
  },
  {
   "cell_type": "markdown",
   "id": "a2b6f3ba",
   "metadata": {},
   "source": [
    "Межгрупповое отклонение:"
   ]
  },
  {
   "cell_type": "code",
   "execution_count": null,
   "id": "5a905933",
   "metadata": {},
   "outputs": [],
   "source": [
    "ss_b = np.sum((football_mean - total_mean)**2) * n_f + np.sum((hockey_mean - total_mean)**2) * n_h + np.sum((barbell_mean - total_mean)**2) * n_b\n",
    "ss_w = np.sum((football - football_mean)**2) + np.sum((hockey - hockey_mean)**2) + np.sum((barbell - barbell_mean)**2)\n",
    "ss_b, ss_w"
   ]
  },
  {
   "cell_type": "markdown",
   "id": "248e81a3",
   "metadata": {},
   "source": [
    "Считаем наблюдаемое значение критерия Фишера"
   ]
  },
  {
   "cell_type": "code",
   "execution_count": null,
   "id": "3a6b7569",
   "metadata": {},
   "outputs": [],
   "source": [
    "d_b = ss_b/(k-1)\n",
    "d_w = ss_w/(n-k)\n",
    "f_n = d_b/d_w\n",
    "f_n"
   ]
  },
  {
   "cell_type": "markdown",
   "id": "ec599c9f",
   "metadata": {},
   "source": [
    "Наблюдаемое значение больше критического (критическое по таблице = 3. 38 (для альфа = 0.05, k1 = 2 и k2 = 25)<br>\n",
    "Таким образом нулевую гипотезу отвергаем, статистически значимые различия есть."
   ]
  },
  {
   "cell_type": "markdown",
   "id": "482c0f35",
   "metadata": {},
   "source": [
    "Проверим гипотезу о равенстве среднего роста футболистов и хоккеистов:"
   ]
  },
  {
   "cell_type": "code",
   "execution_count": null,
   "id": "a136979d",
   "metadata": {},
   "outputs": [],
   "source": [
    "stats.ttest_ind(football, hockey)"
   ]
  },
  {
   "cell_type": "markdown",
   "id": "2f8e3b87",
   "metadata": {},
   "source": [
    "pvalue > 0.05 т.е. средний рост футболистов и хоккеистов\n",
    "не имеют статистически значимых различий"
   ]
  },
  {
   "cell_type": "markdown",
   "id": "228cb1ad",
   "metadata": {},
   "source": [
    "Проверяем гипотезу о равенстве среднего роста футболистов и штангистов"
   ]
  },
  {
   "cell_type": "code",
   "execution_count": null,
   "id": "22ec3e19",
   "metadata": {},
   "outputs": [],
   "source": [
    "stats.ttest_ind(football, barbell)"
   ]
  },
  {
   "cell_type": "markdown",
   "id": "7ab77e2f",
   "metadata": {},
   "source": [
    "pvalue < 0.05 т.е. средний рост футболистов и штангистов имеют статистически значимые различия"
   ]
  },
  {
   "cell_type": "markdown",
   "id": "39480109",
   "metadata": {},
   "source": [
    "Проверяем гипотезу о равенстве среднего роста хоккеистов и штангистов"
   ]
  },
  {
   "cell_type": "code",
   "execution_count": null,
   "id": "9609d806",
   "metadata": {},
   "outputs": [],
   "source": [
    "stats.ttest_ind(hockey, barbell)"
   ]
  },
  {
   "cell_type": "markdown",
   "id": "efa4fa37",
   "metadata": {},
   "source": [
    "pvalue < 0.05 т.е. средний рост хоккеистов и штангистов имеют статистически значимые различия"
   ]
  },
  {
   "cell_type": "code",
   "execution_count": null,
   "id": "c0e4f3dd",
   "metadata": {},
   "outputs": [],
   "source": []
  }
 ],
 "metadata": {
  "kernelspec": {
   "display_name": "Python 3 (ipykernel)",
   "language": "python",
   "name": "python3"
  },
  "language_info": {
   "codemirror_mode": {
    "name": "ipython",
    "version": 3
   },
   "file_extension": ".py",
   "mimetype": "text/x-python",
   "name": "python",
   "nbconvert_exporter": "python",
   "pygments_lexer": "ipython3",
   "version": "3.9.13"
  }
 },
 "nbformat": 4,
 "nbformat_minor": 5
}
